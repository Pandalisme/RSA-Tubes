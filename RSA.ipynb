{
 "cells": [
  {
   "cell_type": "code",
   "execution_count": 1,
   "metadata": {},
   "outputs": [],
   "source": [
    "import binascii\n",
    "import os"
   ]
  },
  {
   "cell_type": "code",
   "execution_count": 2,
   "metadata": {
    "scrolled": true
   },
   "outputs": [
    {
     "name": "stdout",
     "output_type": "stream",
     "text": [
      "p : 47\n",
      "q : 71\n",
      "n =  3337\n",
      "phi =  3220\n",
      "e (prima): 79\n",
      "54\n",
      "d =  2281\n"
     ]
    }
   ],
   "source": [
    "p = int(input(\"p : \"))\n",
    "q = int(input(\"q : \"))\n",
    "n = p * q \n",
    "print(\"n = \", n)\n",
    "\n",
    "phi = (p-1) * (q-1)\n",
    "print(\"phi = \", phi)\n",
    "\n",
    "e = int(input(\"e (prima): \"))\n",
    "\n",
    "for k in range (0,100):\n",
    "    d = (1+(k*n))/e\n",
    "    if(d % 1 == 0):\n",
    "        d = int(d)\n",
    "        break\n",
    "\n",
    "print(k)\n",
    "print(\"d = \", d)"
   ]
  },
  {
   "cell_type": "code",
   "execution_count": 4,
   "metadata": {
    "scrolled": true
   },
   "outputs": [
    {
     "name": "stdout",
     "output_type": "stream",
     "text": [
      "79\n",
      "2281\n"
     ]
    }
   ],
   "source": [
    "kpub = open(\"kunci_publik.pub\",\"w+\")\n",
    "public_key = str(e)\n",
    "kpub.write(public_key)\n",
    "print(public_key)\n",
    "\n",
    "kpri = open(\"kunci_privat.pri\",\"w+\")\n",
    "private_key = str(d)\n",
    "kpri.write(private_key)\n",
    "print(private_key)"
   ]
  },
  {
   "cell_type": "code",
   "execution_count": 5,
   "metadata": {
    "scrolled": false
   },
   "outputs": [
    {
     "name": "stdout",
     "output_type": "stream",
     "text": [
      "kunci publik =  79\n",
      "kunci privat =  2281\n"
     ]
    }
   ],
   "source": [
    "key_pub = open(\"kunci_publik.pub\", \"r\")\n",
    "print(\"kunci publik = \", key_pub.read())\n",
    "\n",
    "key_pri = open(\"kunci_privat.pri\", \"r\")\n",
    "print(\"kunci privat = \", key_pri.read())"
   ]
  },
  {
   "cell_type": "code",
   "execution_count": 6,
   "metadata": {},
   "outputs": [],
   "source": [
    "character = {\"A\":1,\"B\":2,\"C\":3,\"D\":4,\"E\":5,\"F\":6,\"G\":7,\"H\":8,\"I\":9,\"J\":10,\n",
    "     \"K\":11,\"L\":12,\"M\":13,\"N\":14,\"O\":15,\"P\":16,\"Q\":17,\"R\":18,\"S\":19,\n",
    "     \"T\":20,\"U\":21,\"V\":22,\"W\":23,\"X\":24,\"Y\":25,\"Z\":26,\"a\":27,\"b\":28,\n",
    "     \"c\":29,\"d\":30,\"e\":31,\"f\":32,\"g\":33,\"h\":34,\"i\":35,\"j\":36,\"k\":37,\n",
    "     \"l\":38,\"m\":39,\"n\":40,\"o\":41,\"p\":42,\"q\":43,\"r\":44,\"s\":45,\"t\":46,\n",
    "     \"u\":47,\"v\":48,\"w\":49,\"x\":50,\"y\":51,\"z\":52, \" \":53, \".\":54, \",\":55,\n",
    "     \"?\":56,\"/\":57,\"!\":58,\"(\":59,\")\":60,\"$\":61,\":\":62,\";\":63,\"'\":64,\"@\":65,\n",
    "     \"#\":66,\"%\":67,\"^\":68,\"&\":69,\"*\":70,\"+\":71,\"-\":72,\"_\":73,\"=\":74}\n",
    "\n"
   ]
  },
  {
   "cell_type": "code",
   "execution_count": 9,
   "metadata": {},
   "outputs": [
    {
     "name": "stdout",
     "output_type": "stream",
     "text": [
      "Enter plain text: hari ini\n",
      "Value of  h  is  34\n",
      "[3104]\n",
      "Value of  a  is  27\n",
      "[3104, 3315]\n",
      "Value of  r  is  44\n",
      "[3104, 3315, 1158]\n",
      "Value of  i  is  35\n",
      "[3104, 3315, 1158, 1543]\n",
      "Value of     is  53\n",
      "[3104, 3315, 1158, 1543, 65]\n",
      "Value of  i  is  35\n",
      "[3104, 3315, 1158, 1543, 65, 1543]\n",
      "Value of  n  is  40\n",
      "[3104, 3315, 1158, 1543, 65, 1543, 391]\n",
      "Value of  i  is  35\n",
      "[3104, 3315, 1158, 1543, 65, 1543, 391, 1543]\n",
      "Cipher Text is:  31043315115815436515433911543\n"
     ]
    }
   ],
   "source": [
    "message = input('Enter plain text: ')\n",
    "letters = list(message)\n",
    "cipher = []\n",
    "num = \"\"\n",
    "for i in range(0,len(letters)):\n",
    "    print (\"Value of \", letters[i], \" is \", character[letters[i]])\n",
    "\n",
    "    c = (character[letters[i]]**e)%n\n",
    "    cipher += [c]\n",
    "    print(cipher)\n",
    "    num += str(c)\n",
    "print (\"Cipher Text is: \", num)"
   ]
  },
  {
   "cell_type": "code",
   "execution_count": 14,
   "metadata": {},
   "outputs": [
    {
     "name": "stdout",
     "output_type": "stream",
     "text": [
      "110\n",
      "572\n",
      "280\n",
      "2766\n",
      "1482\n",
      "2766\n",
      "1075\n",
      "2766\n",
      "Plain Text is:  \n"
     ]
    }
   ],
   "source": [
    "plain = []\n",
    "result_text = \"\"\n",
    "\n",
    "# Decrypt the cipher text    \n",
    "for j in range(0,len(cipher)):\n",
    "\n",
    "    p_char = (cipher[j]**d)%n\n",
    "    print((cipher[j]**d)%n)\n",
    "#     print(p_char)\n",
    "    for key in character.keys():\n",
    "        if character[key]==p_char:\n",
    "            plain += [key]\n",
    "            result_text += key\n",
    "            break\n",
    "            \n",
    "print (\"Plain Text is: \", result_text)"
   ]
  }
 ],
 "metadata": {
  "kernelspec": {
   "display_name": "Python 3",
   "language": "python",
   "name": "python3"
  },
  "language_info": {
   "codemirror_mode": {
    "name": "ipython",
    "version": 3
   },
   "file_extension": ".py",
   "mimetype": "text/x-python",
   "name": "python",
   "nbconvert_exporter": "python",
   "pygments_lexer": "ipython3",
   "version": "3.7.3"
  }
 },
 "nbformat": 4,
 "nbformat_minor": 2
}
